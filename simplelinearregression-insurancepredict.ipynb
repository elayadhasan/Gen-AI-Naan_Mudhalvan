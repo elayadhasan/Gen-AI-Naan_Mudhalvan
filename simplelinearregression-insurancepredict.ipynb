{
 "cells": [
  {
   "cell_type": "code",
   "execution_count": 1,
   "id": "fcae6daa",
   "metadata": {
    "_cell_guid": "b1076dfc-b9ad-4769-8c92-a6c4dae69d19",
    "_uuid": "8f2839f25d086af736a60e9eeb907d3b93b6e0e5",
    "execution": {
     "iopub.execute_input": "2025-04-17T07:23:48.157342Z",
     "iopub.status.busy": "2025-04-17T07:23:48.156895Z",
     "iopub.status.idle": "2025-04-17T07:23:50.158368Z",
     "shell.execute_reply": "2025-04-17T07:23:50.157370Z"
    },
    "papermill": {
     "duration": 2.00781,
     "end_time": "2025-04-17T07:23:50.159913",
     "exception": false,
     "start_time": "2025-04-17T07:23:48.152103",
     "status": "completed"
    },
    "tags": []
   },
   "outputs": [],
   "source": [
    "import pandas as pd\n",
    "import matplotlib.pyplot as plt\n",
    "import numpy as np"
   ]
  },
  {
   "cell_type": "code",
   "execution_count": 2,
   "id": "57afb5ab",
   "metadata": {
    "execution": {
     "iopub.execute_input": "2025-04-17T07:23:50.167945Z",
     "iopub.status.busy": "2025-04-17T07:23:50.167543Z",
     "iopub.status.idle": "2025-04-17T07:23:50.206809Z",
     "shell.execute_reply": "2025-04-17T07:23:50.205553Z"
    },
    "papermill": {
     "duration": 0.04535,
     "end_time": "2025-04-17T07:23:50.208573",
     "exception": false,
     "start_time": "2025-04-17T07:23:50.163223",
     "status": "completed"
    },
    "tags": []
   },
   "outputs": [
    {
     "data": {
      "text/html": [
       "<div>\n",
       "<style scoped>\n",
       "    .dataframe tbody tr th:only-of-type {\n",
       "        vertical-align: middle;\n",
       "    }\n",
       "\n",
       "    .dataframe tbody tr th {\n",
       "        vertical-align: top;\n",
       "    }\n",
       "\n",
       "    .dataframe thead th {\n",
       "        text-align: right;\n",
       "    }\n",
       "</style>\n",
       "<table border=\"1\" class=\"dataframe\">\n",
       "  <thead>\n",
       "    <tr style=\"text-align: right;\">\n",
       "      <th></th>\n",
       "      <th>Age</th>\n",
       "      <th>Premium</th>\n",
       "    </tr>\n",
       "  </thead>\n",
       "  <tbody>\n",
       "    <tr>\n",
       "      <th>0</th>\n",
       "      <td>18</td>\n",
       "      <td>10000</td>\n",
       "    </tr>\n",
       "    <tr>\n",
       "      <th>1</th>\n",
       "      <td>22</td>\n",
       "      <td>15000</td>\n",
       "    </tr>\n",
       "    <tr>\n",
       "      <th>2</th>\n",
       "      <td>23</td>\n",
       "      <td>18000</td>\n",
       "    </tr>\n",
       "    <tr>\n",
       "      <th>3</th>\n",
       "      <td>26</td>\n",
       "      <td>21000</td>\n",
       "    </tr>\n",
       "    <tr>\n",
       "      <th>4</th>\n",
       "      <td>28</td>\n",
       "      <td>24000</td>\n",
       "    </tr>\n",
       "  </tbody>\n",
       "</table>\n",
       "</div>"
      ],
      "text/plain": [
       "   Age  Premium\n",
       "0   18    10000\n",
       "1   22    15000\n",
       "2   23    18000\n",
       "3   26    21000\n",
       "4   28    24000"
      ]
     },
     "execution_count": 2,
     "metadata": {},
     "output_type": "execute_result"
    }
   ],
   "source": [
    "dataset = pd.read_csv('/kaggle/input/insurance-dataset-simple-linear-regression/simplelinearregression.csv')\n",
    "dataset.head()"
   ]
  },
  {
   "cell_type": "code",
   "execution_count": 3,
   "id": "89b00e2a",
   "metadata": {
    "execution": {
     "iopub.execute_input": "2025-04-17T07:23:50.215913Z",
     "iopub.status.busy": "2025-04-17T07:23:50.215619Z",
     "iopub.status.idle": "2025-04-17T07:23:50.224090Z",
     "shell.execute_reply": "2025-04-17T07:23:50.223137Z"
    },
    "papermill": {
     "duration": 0.013641,
     "end_time": "2025-04-17T07:23:50.225403",
     "exception": false,
     "start_time": "2025-04-17T07:23:50.211762",
     "status": "completed"
    },
    "tags": []
   },
   "outputs": [
    {
     "name": "stdout",
     "output_type": "stream",
     "text": [
      "Age        0\n",
      "Premium    0\n",
      "dtype: int64\n"
     ]
    }
   ],
   "source": [
    "print(dataset.isna().sum())"
   ]
  },
  {
   "cell_type": "code",
   "execution_count": 4,
   "id": "106df1ef",
   "metadata": {
    "execution": {
     "iopub.execute_input": "2025-04-17T07:23:50.232962Z",
     "iopub.status.busy": "2025-04-17T07:23:50.232652Z",
     "iopub.status.idle": "2025-04-17T07:23:50.237569Z",
     "shell.execute_reply": "2025-04-17T07:23:50.236636Z"
    },
    "papermill": {
     "duration": 0.010364,
     "end_time": "2025-04-17T07:23:50.239068",
     "exception": false,
     "start_time": "2025-04-17T07:23:50.228704",
     "status": "completed"
    },
    "tags": []
   },
   "outputs": [],
   "source": [
    "X = dataset.iloc[:, :-1].values\n",
    "y = dataset.iloc[:, -1].values"
   ]
  },
  {
   "cell_type": "code",
   "execution_count": 5,
   "id": "dd693c91",
   "metadata": {
    "execution": {
     "iopub.execute_input": "2025-04-17T07:23:50.246271Z",
     "iopub.status.busy": "2025-04-17T07:23:50.245944Z",
     "iopub.status.idle": "2025-04-17T07:23:51.856019Z",
     "shell.execute_reply": "2025-04-17T07:23:51.855274Z"
    },
    "papermill": {
     "duration": 1.615449,
     "end_time": "2025-04-17T07:23:51.857583",
     "exception": false,
     "start_time": "2025-04-17T07:23:50.242134",
     "status": "completed"
    },
    "tags": []
   },
   "outputs": [],
   "source": [
    "from sklearn.model_selection import train_test_split\n",
    "\n",
    "X_train, X_test, y_train, y_test = train_test_split(X, y, test_size=0.2, random_state=0)"
   ]
  },
  {
   "cell_type": "code",
   "execution_count": 6,
   "id": "1e497db4",
   "metadata": {
    "execution": {
     "iopub.execute_input": "2025-04-17T07:23:51.865866Z",
     "iopub.status.busy": "2025-04-17T07:23:51.865473Z",
     "iopub.status.idle": "2025-04-17T07:23:51.997561Z",
     "shell.execute_reply": "2025-04-17T07:23:51.996595Z"
    },
    "papermill": {
     "duration": 0.138336,
     "end_time": "2025-04-17T07:23:51.998896",
     "exception": false,
     "start_time": "2025-04-17T07:23:51.860560",
     "status": "completed"
    },
    "tags": []
   },
   "outputs": [
    {
     "data": {
      "text/html": [
       "<style>#sk-container-id-1 {color: black;background-color: white;}#sk-container-id-1 pre{padding: 0;}#sk-container-id-1 div.sk-toggleable {background-color: white;}#sk-container-id-1 label.sk-toggleable__label {cursor: pointer;display: block;width: 100%;margin-bottom: 0;padding: 0.3em;box-sizing: border-box;text-align: center;}#sk-container-id-1 label.sk-toggleable__label-arrow:before {content: \"▸\";float: left;margin-right: 0.25em;color: #696969;}#sk-container-id-1 label.sk-toggleable__label-arrow:hover:before {color: black;}#sk-container-id-1 div.sk-estimator:hover label.sk-toggleable__label-arrow:before {color: black;}#sk-container-id-1 div.sk-toggleable__content {max-height: 0;max-width: 0;overflow: hidden;text-align: left;background-color: #f0f8ff;}#sk-container-id-1 div.sk-toggleable__content pre {margin: 0.2em;color: black;border-radius: 0.25em;background-color: #f0f8ff;}#sk-container-id-1 input.sk-toggleable__control:checked~div.sk-toggleable__content {max-height: 200px;max-width: 100%;overflow: auto;}#sk-container-id-1 input.sk-toggleable__control:checked~label.sk-toggleable__label-arrow:before {content: \"▾\";}#sk-container-id-1 div.sk-estimator input.sk-toggleable__control:checked~label.sk-toggleable__label {background-color: #d4ebff;}#sk-container-id-1 div.sk-label input.sk-toggleable__control:checked~label.sk-toggleable__label {background-color: #d4ebff;}#sk-container-id-1 input.sk-hidden--visually {border: 0;clip: rect(1px 1px 1px 1px);clip: rect(1px, 1px, 1px, 1px);height: 1px;margin: -1px;overflow: hidden;padding: 0;position: absolute;width: 1px;}#sk-container-id-1 div.sk-estimator {font-family: monospace;background-color: #f0f8ff;border: 1px dotted black;border-radius: 0.25em;box-sizing: border-box;margin-bottom: 0.5em;}#sk-container-id-1 div.sk-estimator:hover {background-color: #d4ebff;}#sk-container-id-1 div.sk-parallel-item::after {content: \"\";width: 100%;border-bottom: 1px solid gray;flex-grow: 1;}#sk-container-id-1 div.sk-label:hover label.sk-toggleable__label {background-color: #d4ebff;}#sk-container-id-1 div.sk-serial::before {content: \"\";position: absolute;border-left: 1px solid gray;box-sizing: border-box;top: 0;bottom: 0;left: 50%;z-index: 0;}#sk-container-id-1 div.sk-serial {display: flex;flex-direction: column;align-items: center;background-color: white;padding-right: 0.2em;padding-left: 0.2em;position: relative;}#sk-container-id-1 div.sk-item {position: relative;z-index: 1;}#sk-container-id-1 div.sk-parallel {display: flex;align-items: stretch;justify-content: center;background-color: white;position: relative;}#sk-container-id-1 div.sk-item::before, #sk-container-id-1 div.sk-parallel-item::before {content: \"\";position: absolute;border-left: 1px solid gray;box-sizing: border-box;top: 0;bottom: 0;left: 50%;z-index: -1;}#sk-container-id-1 div.sk-parallel-item {display: flex;flex-direction: column;z-index: 1;position: relative;background-color: white;}#sk-container-id-1 div.sk-parallel-item:first-child::after {align-self: flex-end;width: 50%;}#sk-container-id-1 div.sk-parallel-item:last-child::after {align-self: flex-start;width: 50%;}#sk-container-id-1 div.sk-parallel-item:only-child::after {width: 0;}#sk-container-id-1 div.sk-dashed-wrapped {border: 1px dashed gray;margin: 0 0.4em 0.5em 0.4em;box-sizing: border-box;padding-bottom: 0.4em;background-color: white;}#sk-container-id-1 div.sk-label label {font-family: monospace;font-weight: bold;display: inline-block;line-height: 1.2em;}#sk-container-id-1 div.sk-label-container {text-align: center;}#sk-container-id-1 div.sk-container {/* jupyter's `normalize.less` sets `[hidden] { display: none; }` but bootstrap.min.css set `[hidden] { display: none !important; }` so we also need the `!important` here to be able to override the default hidden behavior on the sphinx rendered scikit-learn.org. See: https://github.com/scikit-learn/scikit-learn/issues/21755 */display: inline-block !important;position: relative;}#sk-container-id-1 div.sk-text-repr-fallback {display: none;}</style><div id=\"sk-container-id-1\" class=\"sk-top-container\"><div class=\"sk-text-repr-fallback\"><pre>LinearRegression()</pre><b>In a Jupyter environment, please rerun this cell to show the HTML representation or trust the notebook. <br />On GitHub, the HTML representation is unable to render, please try loading this page with nbviewer.org.</b></div><div class=\"sk-container\" hidden><div class=\"sk-item\"><div class=\"sk-estimator sk-toggleable\"><input class=\"sk-toggleable__control sk-hidden--visually\" id=\"sk-estimator-id-1\" type=\"checkbox\" checked><label for=\"sk-estimator-id-1\" class=\"sk-toggleable__label sk-toggleable__label-arrow\">LinearRegression</label><div class=\"sk-toggleable__content\"><pre>LinearRegression()</pre></div></div></div></div></div>"
      ],
      "text/plain": [
       "LinearRegression()"
      ]
     },
     "execution_count": 6,
     "metadata": {},
     "output_type": "execute_result"
    }
   ],
   "source": [
    "from sklearn.linear_model import LinearRegression\n",
    "\n",
    "regressor = LinearRegression()\n",
    "regressor.fit(X_train, y_train)"
   ]
  },
  {
   "cell_type": "code",
   "execution_count": 7,
   "id": "d9371016",
   "metadata": {
    "execution": {
     "iopub.execute_input": "2025-04-17T07:23:52.006700Z",
     "iopub.status.busy": "2025-04-17T07:23:52.005862Z",
     "iopub.status.idle": "2025-04-17T07:23:52.010638Z",
     "shell.execute_reply": "2025-04-17T07:23:52.009746Z"
    },
    "papermill": {
     "duration": 0.010004,
     "end_time": "2025-04-17T07:23:52.012084",
     "exception": false,
     "start_time": "2025-04-17T07:23:52.002080",
     "status": "completed"
    },
    "tags": []
   },
   "outputs": [],
   "source": [
    "y_pred = regressor.predict(X_test)"
   ]
  },
  {
   "cell_type": "code",
   "execution_count": 8,
   "id": "4ef76c30",
   "metadata": {
    "execution": {
     "iopub.execute_input": "2025-04-17T07:23:52.019247Z",
     "iopub.status.busy": "2025-04-17T07:23:52.018922Z",
     "iopub.status.idle": "2025-04-17T07:23:52.024582Z",
     "shell.execute_reply": "2025-04-17T07:23:52.023684Z"
    },
    "papermill": {
     "duration": 0.010912,
     "end_time": "2025-04-17T07:23:52.026134",
     "exception": false,
     "start_time": "2025-04-17T07:23:52.015222",
     "status": "completed"
    },
    "tags": []
   },
   "outputs": [
    {
     "data": {
      "text/plain": [
       "array([29838.46153846, 16665.38461538])"
      ]
     },
     "execution_count": 8,
     "metadata": {},
     "output_type": "execute_result"
    }
   ],
   "source": [
    "y_pred"
   ]
  },
  {
   "cell_type": "code",
   "execution_count": 9,
   "id": "6ae32226",
   "metadata": {
    "execution": {
     "iopub.execute_input": "2025-04-17T07:23:52.033521Z",
     "iopub.status.busy": "2025-04-17T07:23:52.033180Z",
     "iopub.status.idle": "2025-04-17T07:23:52.312881Z",
     "shell.execute_reply": "2025-04-17T07:23:52.312060Z"
    },
    "papermill": {
     "duration": 0.285161,
     "end_time": "2025-04-17T07:23:52.314575",
     "exception": false,
     "start_time": "2025-04-17T07:23:52.029414",
     "status": "completed"
    },
    "tags": []
   },
   "outputs": [
    {
     "data": {
      "image/png": "[encoded data removed]",
      "text/plain": [
       "<Figure size 640x480 with 1 Axes>"
      ]
     },
     "metadata": {},
     "output_type": "display_data"
    }
   ],
   "source": [
    "plt.scatter(X_train, y_train, color='red')\n",
    "plt.plot(X_train, regressor.predict(X_train), color='blue')\n",
    "plt.title('Age vs Insurance (training set)')\n",
    "plt.xlabel('Age')\n",
    "plt.ylabel('Insurance')\n",
    "plt.show()"
   ]
  },
  {
   "cell_type": "code",
   "execution_count": 10,
   "id": "8307739e",
   "metadata": {
    "execution": {
     "iopub.execute_input": "2025-04-17T07:23:52.323207Z",
     "iopub.status.busy": "2025-04-17T07:23:52.322930Z",
     "iopub.status.idle": "2025-04-17T07:23:52.603427Z",
     "shell.execute_reply": "2025-04-17T07:23:52.602500Z"
    },
    "papermill": {
     "duration": 0.286344,
     "end_time": "2025-04-17T07:23:52.604821",
     "exception": false,
     "start_time": "2025-04-17T07:23:52.318477",
     "status": "completed"
    },
    "tags": []
   },
   "outputs": [
    {
     "data": {
      "image/png": "[encoded data removed]",
      "text/plain": [
       "<Figure size 640x480 with 1 Axes>"
      ]
     },
     "metadata": {},
     "output_type": "display_data"
    }
   ],
   "source": [
    "plt.scatter(X_test, y_test, color='red')\n",
    "plt.plot(X_train, regressor.predict(X_train), color='blue')\n",
    "plt.title('Age vs Insurance (testing set)')\n",
    "plt.xlabel('Age')\n",
    "plt.ylabel('Insurance')\n",
    "plt.show()"
   ]
  },
  {
   "cell_type": "code",
   "execution_count": 11,
   "id": "ca96e19b",
   "metadata": {
    "execution": {
     "iopub.execute_input": "2025-04-17T07:23:52.615105Z",
     "iopub.status.busy": "2025-04-17T07:23:52.614284Z",
     "iopub.status.idle": "2025-04-17T07:23:52.619678Z",
     "shell.execute_reply": "2025-04-17T07:23:52.618614Z"
    },
    "papermill": {
     "duration": 0.01188,
     "end_time": "2025-04-17T07:23:52.620985",
     "exception": false,
     "start_time": "2025-04-17T07:23:52.609105",
     "status": "completed"
    },
    "tags": []
   },
   "outputs": [
    {
     "name": "stdout",
     "output_type": "stream",
     "text": [
      "[45646.15384615]\n"
     ]
    }
   ],
   "source": [
    "print(regressor.predict([[45]]))"
   ]
  },
  {
   "cell_type": "code",
   "execution_count": 12,
   "id": "261ec43e",
   "metadata": {
    "execution": {
     "iopub.execute_input": "2025-04-17T07:23:52.630765Z",
     "iopub.status.busy": "2025-04-17T07:23:52.630131Z",
     "iopub.status.idle": "2025-04-17T07:23:52.635282Z",
     "shell.execute_reply": "2025-04-17T07:23:52.634272Z"
    },
    "papermill": {
     "duration": 0.011517,
     "end_time": "2025-04-17T07:23:52.636711",
     "exception": false,
     "start_time": "2025-04-17T07:23:52.625194",
     "status": "completed"
    },
    "tags": []
   },
   "outputs": [
    {
     "name": "stdout",
     "output_type": "stream",
     "text": [
      "[1317.30769231]\n",
      "-13632.692307692312\n"
     ]
    }
   ],
   "source": [
    "print(regressor.coef_)\n",
    "print(regressor.intercept_)"
   ]
  }
 ],
 "metadata": {
  "kaggle": {
   "accelerator": "none",
   "dataSources": [
    {
     "datasetId": 3737036,
     "sourceId": 6470374,
     "sourceType": "datasetVersion"
    }
   ],
   "dockerImageVersionId": 31012,
   "isGpuEnabled": false,
   "isInternetEnabled": false,
   "language": "python",
   "sourceType": "notebook"
  },
  "kernelspec": {
   "display_name": "Python 3",
   "language": "python",
   "name": "python3"
  },
  "language_info": {
   "codemirror_mode": {
    "name": "ipython",
    "version": 3
   },
   "file_extension": ".py",
   "mimetype": "text/x-python",
   "name": "python",
   "nbconvert_exporter": "python",
   "pygments_lexer": "ipython3",
   "version": "3.11.11"
  },
  "papermill": {
   "default_parameters": {},
   "duration": 10.001489,
   "end_time": "2025-04-17T07:23:53.260375",
   "environment_variables": {},
   "exception": null,
   "input_path": "__notebook__.ipynb",
   "output_path": "__notebook__.ipynb",
   "parameters": {},
   "start_time": "2025-04-17T07:23:43.258886",
   "version": "2.6.0"
  }
 },
 "nbformat": 4,
 "nbformat_minor": 5
}
